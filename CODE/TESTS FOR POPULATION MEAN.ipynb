{
 "cells": [
  {
   "cell_type": "markdown",
   "id": "39af049e",
   "metadata": {},
   "source": [
    "TESTS ABOUT A SINGLE MEAN"
   ]
  },
  {
   "cell_type": "markdown",
   "id": "030e4288",
   "metadata": {},
   "source": [
    "- Normal population with known standard deviation\n",
    "- Large Sample Test\n",
    "- Small sample test in a normal population"
   ]
  },
  {
   "cell_type": "code",
   "execution_count": 1,
   "id": "4bb8f9a0",
   "metadata": {},
   "outputs": [],
   "source": [
    "import numpy as np\n",
    "import matplotlib.pyplot as plt\n",
    "import pandas as pd\n",
    "import scipy.stats as st"
   ]
  },
  {
   "cell_type": "markdown",
   "id": "2b13913b",
   "metadata": {},
   "source": [
    "## NORMAL POPULATION WITH KNOWN STANDARD DEVIATION\n",
    "\n",
    "Although the assumption that the value of s is known is rarely met in practice, this\n",
    "case provides a good starting point because of the ease with which general procedures and their properties can be developed"
   ]
  },
  {
   "cell_type": "markdown",
   "id": "4ca0d6e6",
   "metadata": {},
   "source": [
    "- Test : Z Test\n",
    "- Test Statistics : z = (sample mean - proposed mean)/((population standard deviation / root of dample size)\n",
    "$$z = \\frac{x_0- \\mu_o}{\\sigma/\\sqrt(n)} $$\n"
   ]
  },
  {
   "cell_type": "code",
   "execution_count": 2,
   "id": "e09ee5cb",
   "metadata": {},
   "outputs": [],
   "source": [
    "# QUESTION\n",
    "# Created below is a data with standard deviation 1.5\n",
    "\n",
    "data = np.random.normal(128,1.5,10000)\n",
    "\n",
    "# i) Plot density function of the data and identify the distribution.\n",
    "# ii) Select a sample of 9 from the data and using its mean test the following hypothesis. \n",
    "\n",
    "#    H_0 := Population mean = 130 v/s H_a:= Population mean > 130 ( Right Tailed Test)\n",
    "#    Significance level = 0.01"
   ]
  },
  {
   "cell_type": "code",
   "execution_count": 3,
   "id": "0327ca3f",
   "metadata": {},
   "outputs": [],
   "source": [
    "# i) For distribution let us convert it into data frame and use \n",
    "df = pd.DataFrame(data,columns=['Value'])"
   ]
  },
  {
   "cell_type": "code",
   "execution_count": 4,
   "id": "409a5f48",
   "metadata": {},
   "outputs": [
    {
     "data": {
      "text/plain": [
       "<AxesSubplot:ylabel='Density'>"
      ]
     },
     "execution_count": 4,
     "metadata": {},
     "output_type": "execute_result"
    },
    {
     "data": {
      "image/png": "[encoded data removed]",
      "text/plain": [
       "<Figure size 640x480 with 1 Axes>"
      ]
     },
     "metadata": {},
     "output_type": "display_data"
    }
   ],
   "source": [
    "df.plot.kde()"
   ]
  },
  {
   "cell_type": "code",
   "execution_count": 5,
   "id": "a69a670d",
   "metadata": {},
   "outputs": [],
   "source": [
    "#Create a sample of size\n",
    "sample = np.random.choice(data, size=9)"
   ]
  },
  {
   "cell_type": "code",
   "execution_count": 6,
   "id": "4c356b85",
   "metadata": {},
   "outputs": [
    {
     "data": {
      "text/plain": [
       "127.78476833270844"
      ]
     },
     "execution_count": 6,
     "metadata": {},
     "output_type": "execute_result"
    }
   ],
   "source": [
    "#Calculate sample mean\n",
    "sample_mean = sample.mean()\n",
    "sample_mean"
   ]
  },
  {
   "cell_type": "code",
   "execution_count": 7,
   "id": "b4eed657",
   "metadata": {},
   "outputs": [],
   "source": [
    "# Create test statistic\n",
    "z = (sample_mean-130)/(1.5/np.sqrt(9))"
   ]
  },
  {
   "cell_type": "code",
   "execution_count": 8,
   "id": "966b9fc5",
   "metadata": {},
   "outputs": [],
   "source": [
    "# Calculate critical value\n",
    "# use norm.ppt form scipy.stats\n",
    "critical_value = st.norm.ppf(1-0.01)      # 1-0.01 because right tailed test "
   ]
  },
  {
   "cell_type": "code",
   "execution_count": 9,
   "id": "8d1a534b",
   "metadata": {},
   "outputs": [
    {
     "name": "stdout",
     "output_type": "stream",
     "text": [
      "We cant reject H_0\n"
     ]
    }
   ],
   "source": [
    "if z>critical_value:\n",
    "    print(\"Reject H_0\")\n",
    "else:\n",
    "    print(\"We cant reject H_0\")"
   ]
  },
  {
   "cell_type": "markdown",
   "id": "b3c9e821",
   "metadata": {},
   "source": [
    "------------"
   ]
  },
  {
   "cell_type": "markdown",
   "id": "315007db",
   "metadata": {},
   "source": [
    "## LARGE SAMPLE TEST ANY POPULATION"
   ]
  },
  {
   "cell_type": "markdown",
   "id": "83d81f2c",
   "metadata": {},
   "source": [
    "For any population and for large sample we  can use z test"
   ]
  },
  {
   "cell_type": "markdown",
   "id": "c091687d",
   "metadata": {},
   "source": [
    "- Test : z test\n",
    "- Test Statistic : \n",
    "$$z = \\frac{x_0- \\mu_o}{s/\\sqrt(n)} $$\n",
    "\n",
    "- $x_0 =$  sample mean\n",
    "- $\\mu_0 =$  Proposed mean\n",
    "- $s = $ Sample standard deviation"
   ]
  },
  {
   "cell_type": "code",
   "execution_count": 10,
   "id": "e25faab3",
   "metadata": {},
   "outputs": [],
   "source": [
    "data = np.random.random(size =10000)"
   ]
  },
  {
   "cell_type": "code",
   "execution_count": 18,
   "id": "ff91d1d0",
   "metadata": {},
   "outputs": [],
   "source": [
    "# Question \n",
    "# Select a sample of size 160 from above data and check the claim that the mean of the above data is not equal to 0.80\n",
    "# Use significant leve of 0.05"
   ]
  },
  {
   "cell_type": "code",
   "execution_count": 12,
   "id": "4eae3ab4",
   "metadata": {},
   "outputs": [],
   "source": [
    "# Answer "
   ]
  },
  {
   "cell_type": "markdown",
   "id": "fe6c10fd",
   "metadata": {},
   "source": [
    "Null Hypothesis $H_0 : \\mu = 0.80$ \n",
    "\n",
    "Alternate Hypothesis$H_0 : \\mu \\neq 0.80$"
   ]
  },
  {
   "cell_type": "markdown",
   "id": "bd8d7522",
   "metadata": {},
   "source": [
    "So $\\mu_0 = 0.80$"
   ]
  },
  {
   "cell_type": "code",
   "execution_count": 16,
   "id": "e0c7a08c",
   "metadata": {},
   "outputs": [],
   "source": [
    "#Sample\n",
    "sample = np.random.choice(data, size=160)\n",
    "\n",
    "# Sample mean\n",
    "x_0 = sample.mean()\n",
    "\n",
    "# Sample standard deviation\n",
    "s = sample.std()"
   ]
  },
  {
   "cell_type": "code",
   "execution_count": 17,
   "id": "66b4b90b",
   "metadata": {},
   "outputs": [],
   "source": [
    "# Test statistics\n",
    "z = (x_0 - 0.80)/((s/np.sqrt(160)))"
   ]
  },
  {
   "cell_type": "code",
   "execution_count": 19,
   "id": "84880e95",
   "metadata": {},
   "outputs": [],
   "source": [
    "# Critical Value \n",
    "critical_value = st.norm.ppf(1-0.05/2)"
   ]
  },
  {
   "cell_type": "code",
   "execution_count": 20,
   "id": "9a0de722",
   "metadata": {},
   "outputs": [
    {
     "data": {
      "text/plain": [
       "1.959963984540054"
      ]
     },
     "execution_count": 20,
     "metadata": {},
     "output_type": "execute_result"
    }
   ],
   "source": [
    "if z>critical_value:\n",
    "    print(\"Reject H_0\")\n",
    "else:\n",
    "    print(\"We cant reject H_0\")"
   ]
  },
  {
   "cell_type": "code",
   "execution_count": null,
   "id": "f27f5ba4",
   "metadata": {},
   "outputs": [],
   "source": []
  }
 ],
 "metadata": {
  "kernelspec": {
   "display_name": "Python 3 (ipykernel)",
   "language": "python",
   "name": "python3"
  },
  "language_info": {
   "codemirror_mode": {
    "name": "ipython",
    "version": 3
   },
   "file_extension": ".py",
   "mimetype": "text/x-python",
   "name": "python",
   "nbconvert_exporter": "python",
   "pygments_lexer": "ipython3",
   "version": "3.7.15"
  }
 },
 "nbformat": 4,
 "nbformat_minor": 5
}
