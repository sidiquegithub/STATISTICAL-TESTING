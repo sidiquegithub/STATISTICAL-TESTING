{
 "cells": [
  {
   "cell_type": "markdown",
   "id": "ed3079ff",
   "metadata": {},
   "source": [
    "# ANOVA"
   ]
  },
  {
   "cell_type": "markdown",
   "id": "12aec584",
   "metadata": {},
   "source": [
    "The analysis of variance, or more briefly ANOVA, refers broadly to a collection of experimental situations and statistical procedures for the analysis of quantitative responses from experimental units.\n",
    "\n",
    "The simplest ANOVA problem is referred to variously as a single-factor, single-classification, or one-way ANOVA.\n",
    "\n",
    "There are three primary assumptions in ANOVA:\n",
    "\n",
    "- The responses for each factor level have a normal population distribution.\n",
    "- These distributions have the same variance.\n",
    "- The data are independent."
   ]
  },
  {
   "cell_type": "markdown",
   "id": "82b3ce21",
   "metadata": {},
   "source": [
    "## ONE WAY ANOVA\n",
    "It involves the analysis either of data sampled from more than two\n",
    "numerical populations (distributions) or of data from experiments in which\n",
    "more than two treatments have been used."
   ]
  },
  {
   "cell_type": "markdown",
   "id": "753b2947",
   "metadata": {},
   "source": [
    "$H_0: \\mu_1 = \\mu_2 = \\mu_3 =\\mu_4 = .....\\mu_n$\n",
    "\n",
    "$H_a: Atleast \\ two \\ of \\ the \\  \\mu_i \\ 's \\ are \\ different   $"
   ]
  },
  {
   "cell_type": "markdown",
   "id": "90632832",
   "metadata": {},
   "source": [
    "https://docs.scipy.org/doc/scipy/reference/generated/scipy.stats.f_oneway.html"
   ]
  },
  {
   "cell_type": "markdown",
   "id": "a8659875",
   "metadata": {},
   "source": [
    "#### QUESTIONS\n",
    "\n",
    "Six samples of each of four types of cereal grain grown in a\n",
    "certain region were analyzed to determine thiamin content,\n",
    "resulting in the following data (mg/g):\n",
    "\n",
    "- Wheat 5.2 4.5 6.0 6.1 6.7 5.8\n",
    "- Barley 6.5 8.0 6.1 7.5 5.9 5.6\n",
    "- Maize 5.8 4.7 6.4 4.9 6.0 5.2\n",
    "- Oats 8.3 6.1 7.8 7.0 5.5 7.2\n",
    "\n",
    "Does this data suggest that at least two of the grains differ\n",
    "with respect to true average thiamin content? Use a level $\\alpha = 0.5$\n",
    "test based on the P-value method."
   ]
  },
  {
   "cell_type": "code",
   "execution_count": 1,
   "id": "8f33ec5f",
   "metadata": {},
   "outputs": [
    {
     "name": "stdout",
     "output_type": "stream",
     "text": [
      "F-value: 3.9565440798649343\n",
      "P-value: 0.022934212492442103\n"
     ]
    }
   ],
   "source": [
    "import scipy.stats as stats\n",
    "\n",
    "# Thiamin content data for each grain type\n",
    "wheat = [5.2, 4.5, 6.0, 6.1, 6.7, 5.8]\n",
    "barley = [6.5, 8.0, 6.1, 7.5, 5.9, 5.6]\n",
    "maize = [5.8, 4.7, 6.4, 4.9, 6.0, 5.2]\n",
    "oats = [8.3, 6.1, 7.8, 7.0, 5.5, 7.2]\n",
    "\n",
    "# Perform one-way ANOVA\n",
    "f_value, p_value = stats.f_oneway(wheat, barley, maize, oats)\n",
    "\n",
    "print(\"F-value:\", f_value)\n",
    "print(\"P-value:\", p_value)"
   ]
  },
  {
   "cell_type": "markdown",
   "id": "3a0224e0",
   "metadata": {},
   "source": [
    "CONCLUSION\n",
    "\n",
    "Since p value is less than 0.05 we reject null hyothesis. So this data suggest that at least two of the grains differ\n",
    "with respect to true average  "
   ]
  },
  {
   "cell_type": "code",
   "execution_count": null,
   "id": "37c90ff3",
   "metadata": {},
   "outputs": [],
   "source": []
  }
 ],
 "metadata": {
  "kernelspec": {
   "display_name": "Python 3 (ipykernel)",
   "language": "python",
   "name": "python3"
  },
  "language_info": {
   "codemirror_mode": {
    "name": "ipython",
    "version": 3
   },
   "file_extension": ".py",
   "mimetype": "text/x-python",
   "name": "python",
   "nbconvert_exporter": "python",
   "pygments_lexer": "ipython3",
   "version": "3.7.15"
  }
 },
 "nbformat": 4,
 "nbformat_minor": 5
}
