{
 "cells": [
  {
   "cell_type": "markdown",
   "id": "39cced08",
   "metadata": {},
   "source": [
    "# TEST FOR DIFFERENCE BETWEEN TWO POPULATION MEAN"
   ]
  },
  {
   "cell_type": "markdown",
   "id": "a8a55df3",
   "metadata": {},
   "source": [
    "- NORMAL POPULATION WITH KNOWN VARIANCE\n",
    "- LARGE SAMPLE TEST\n",
    "- "
   ]
  },
  {
   "cell_type": "code",
   "execution_count": 2,
   "id": "1d8fe95d",
   "metadata": {},
   "outputs": [],
   "source": [
    "import numpy as np\n",
    "import pandas as pd\n",
    "import scipy.stats as st"
   ]
  },
  {
   "cell_type": "markdown",
   "id": "b6febbdd",
   "metadata": {},
   "source": [
    "Population I ($X$)\n",
    "- Mean $\\mu_1$\n",
    "- Variance $(\\sigma_1)^2$\n",
    "\n",
    "- sample size = $m$\n",
    "- sample mean = $\\bar{x}$\n",
    "\n",
    "Population II ($Y$)\n",
    "- Mean $\\mu_2$\n",
    "- Variance $(\\sigma_2)^2$\n",
    "\n",
    "- sample size = $n$\n",
    "- sample mean = $\\bar{y}$"
   ]
  },
  {
   "cell_type": "markdown",
   "id": "35c729fe",
   "metadata": {},
   "source": [
    "## NORMAL POPULATION WITH KNOWN VARIANCE"
   ]
  },
  {
   "cell_type": "markdown",
   "id": "b8afb59a",
   "metadata": {},
   "source": [
    "Null Hypothesis $H_0 : \\mu_1 -\\mu_2 =\\Delta_0$"
   ]
  },
  {
   "cell_type": "markdown",
   "id": "bcb06692",
   "metadata": {},
   "source": [
    "TEST: Z TEST\n",
    "TEST STATISTC : $z = \\frac{\\bar{x} - \\bar{y} -\\Delta_0}{\\sqrt{\\frac{\\sigma_1^2}{m}+\\frac{\\sigma_2^2}{n}}}$"
   ]
  },
  {
   "cell_type": "markdown",
   "id": "d966cc4b",
   "metadata": {},
   "source": [
    "Question\n",
    "\n",
    "Analysis of a random sample consisting of m = 20 specimens of cold-rolled steel to\n",
    "determine yield strengths resulted in a sample average strength of $\\bar{x} = 29.8$ksi . A\n",
    "second random sample of $n=25$ two-sided galvanized steel specimens gave a sample average strength of $\\bar{y} =34.7$ . Assuming that the two yield-strength distributions are normal with $\\sigma_1 = 4.0$ and $\\sigma_2 = 5.0$ (suggested by a graph in the article\n",
    "“Zinc-Coated Sheet Steel: An Overview,” Automotive Engr., Dec. 1984: 39–43),\n",
    "does the data indicate that the corresponding true average yield strengths $\\mu_1$ and $\\mu_2$\n",
    "are different? Let’s carry out a test at significance level $\\alpha = 0.01$."
   ]
  },
  {
   "cell_type": "markdown",
   "id": "9853211d",
   "metadata": {},
   "source": [
    "ANSWER\n",
    "\n",
    "- To check H_0 : $\\mu_1 - \\mu_2 = 0 $\n",
    "- H_a :  $\\mu_1 - \\mu_2 \\neq 0 $"
   ]
  },
  {
   "cell_type": "code",
   "execution_count": 10,
   "id": "f06d8450",
   "metadata": {},
   "outputs": [],
   "source": [
    "# Given values\n",
    "\n",
    "# Sample mean \n",
    "x = 29.8 \n",
    "y = 34.7\n",
    "\n",
    "# Population Variance\n",
    "Sigma_X = 4.0\n",
    "Sigma_Y = 5.0\n",
    "\n",
    "# Sample size\n",
    "m = 20\n",
    "n = 25\n",
    "\n",
    "delta = 0\n",
    "\n",
    "alpha = 0.01"
   ]
  },
  {
   "cell_type": "code",
   "execution_count": 3,
   "id": "a5437d34",
   "metadata": {},
   "outputs": [],
   "source": [
    "# Test staistic\n",
    "z = (x - y - delta)/(np.sqrt((Sigma_X**2/m) + ((Sigma_Y**2/n))))"
   ]
  },
  {
   "cell_type": "code",
   "execution_count": 4,
   "id": "32207378",
   "metadata": {},
   "outputs": [],
   "source": [
    "# Critical value \n",
    "# Z value for two tailed test\n",
    "critical_value = st.norm.ppf(1-(alpha/2)) "
   ]
  },
  {
   "cell_type": "code",
   "execution_count": 5,
   "id": "1ba54822",
   "metadata": {},
   "outputs": [
    {
     "name": "stdout",
     "output_type": "stream",
     "text": [
      "Reject H_0\n"
     ]
    }
   ],
   "source": [
    "if z <= - critical_value or z >= critical_value:\n",
    "    print(\"Reject H_0\")\n",
    "else:\n",
    "    print(\"No evidence to reject H_0\")"
   ]
  },
  {
   "cell_type": "markdown",
   "id": "8766c5b1",
   "metadata": {},
   "source": [
    "Conclusion\n",
    "\n",
    "The sample\n",
    "data strongly suggests that the true average yield strength for cold-rolled steel\n",
    "differs from that for galvanized steel"
   ]
  },
  {
   "cell_type": "code",
   "execution_count": 6,
   "id": "54412972",
   "metadata": {},
   "outputs": [],
   "source": [
    "# P-value for the two-tailed z-test\n",
    "p_value = (1 - st.norm.cdf(np.abs(z))) * 2"
   ]
  },
  {
   "cell_type": "code",
   "execution_count": 7,
   "id": "fae6bf1b",
   "metadata": {},
   "outputs": [
    {
     "data": {
      "text/plain": [
       "0.00025995833275427316"
      ]
     },
     "execution_count": 7,
     "metadata": {},
     "output_type": "execute_result"
    }
   ],
   "source": [
    "p_value "
   ]
  },
  {
   "cell_type": "markdown",
   "id": "ee0116b6",
   "metadata": {},
   "source": [
    "Small P Value says that H_0 should be rejected at any reasonable significance level"
   ]
  },
  {
   "cell_type": "markdown",
   "id": "791fe9ba",
   "metadata": {},
   "source": [
    "-----------------------"
   ]
  },
  {
   "cell_type": "markdown",
   "id": "eb4c8e63",
   "metadata": {},
   "source": [
    "## LARGE SAMPLE TEST"
   ]
  },
  {
   "cell_type": "markdown",
   "id": "1f0815ea",
   "metadata": {},
   "source": [
    "The assumptions of normal population distributions and known values of population variance\n",
    "are fortunately unnecessary when both sample sizes are sufficiently large. In this\n",
    "case, the Central Limit Theorem guarantees that has approximately a normal\n",
    "distribution regardless of the underlying population distributions"
   ]
  },
  {
   "cell_type": "markdown",
   "id": "1145182a",
   "metadata": {},
   "source": [
    "Null Hypothesis $H_0 : \\mu_1 -\\mu_2 =\\Delta_0$"
   ]
  },
  {
   "cell_type": "markdown",
   "id": "7405da63",
   "metadata": {},
   "source": [
    "- TEST : z test\n",
    "- TEST STATISTC : $z = \\frac{\\bar{x} - \\bar{y} -\\Delta_0}{\\sqrt{\\frac{s_1^2}{m}+\\frac{s_2^2}{n}}}$\n",
    "\n",
    "- s_1 and s_2 samples standard deviations"
   ]
  },
  {
   "cell_type": "markdown",
   "id": "decb302f",
   "metadata": {},
   "source": [
    "QUESTION \n",
    "\n",
    "What impact does fast-food consumption have on various dietary and health characteristics? The article “Effects of Fast-Food Consumption on Energy Intake and Diet\n",
    "Quality Among Children in a National Household Study” (Pediatrics, 2004:\n",
    "112–118) reported the accompanying summary data on daily calorie intake both for\n",
    "a sample of teens who said they did not typically eat fast food and another sample\n",
    "of teens who said they did usually eat fast food\n",
    "\n",
    "| Eat Fast Food | Sample Size | Sample Mean | Sample SD |\n",
    "|---------------|-------------|-------------|-----------|\n",
    "| No            | 663         | 2258        | 1519      |\n",
    "| Yes           | 413         | 2637        | 1138      |\n",
    "\n",
    "\n",
    "Does this data provide strong evidence for concluding that true average calorie intake\n",
    "for teens who typically eat fast food exceeds by more than 200 calories per day the\n",
    "true average intake for those who don’t typically eat fast food? Let’s investigate by\n",
    "carrying out a test of hypotheses at a significance level of approximately .05."
   ]
  },
  {
   "cell_type": "markdown",
   "id": "3ba77b7b",
   "metadata": {},
   "source": [
    "ANSWER "
   ]
  },
  {
   "cell_type": "markdown",
   "id": "c5ef8eac",
   "metadata": {},
   "source": [
    "- LARGE SAMPLE TEST\n",
    "\n",
    "- First Sample be for \"NO\" and second sample be \"YES\"\n",
    "\n",
    "- Alternate Hypothesis $ H_a : \\mu_2 -\\mu_1 > 200$ \n",
    "- Null Hypothesis      $ H_0 : \\mu_2 -\\mu_1 = 200$"
   ]
  },
  {
   "cell_type": "markdown",
   "id": "c2bd4301",
   "metadata": {},
   "source": [
    "- TEST: Right tailed z test"
   ]
  },
  {
   "cell_type": "code",
   "execution_count": 11,
   "id": "d45a27d0",
   "metadata": {},
   "outputs": [],
   "source": [
    "# Given value\n",
    "\n",
    "# Sample mean \n",
    "x = 2258\n",
    "y = 2637\n",
    "\n",
    "# Sample Variance\n",
    "s_1 = 1519\n",
    "s_2 = 1138\n",
    "\n",
    "# Sample size\n",
    "m = 663\n",
    "n = 413\n",
    "\n",
    "delta = 200\n",
    "\n",
    "alpha = 0.05"
   ]
  },
  {
   "cell_type": "code",
   "execution_count": 12,
   "id": "eaf5f09f",
   "metadata": {},
   "outputs": [],
   "source": [
    "# Test Statistc\n",
    "z = (y-x-delta)/(np.sqrt((s_2**2/n)+(s_1**2/m)))"
   ]
  },
  {
   "cell_type": "code",
   "execution_count": 19,
   "id": "1c103363",
   "metadata": {},
   "outputs": [],
   "source": [
    "# Critical value\n",
    "critical_value = st.norm.ppf(1-alpha) "
   ]
  },
  {
   "cell_type": "code",
   "execution_count": 20,
   "id": "149513b4",
   "metadata": {
    "scrolled": true
   },
   "outputs": [
    {
     "name": "stdout",
     "output_type": "stream",
     "text": [
      "Reject H_0\n"
     ]
    }
   ],
   "source": [
    "if z >= critical_value :\n",
    "    print(\"Reject H_0\")\n",
    "else:\n",
    "    print(\"No evidence to reject H_0)\")"
   ]
  },
  {
   "cell_type": "code",
   "execution_count": 22,
   "id": "30196038",
   "metadata": {},
   "outputs": [
    {
     "data": {
      "text/plain": [
       "0.013878938882023118"
      ]
     },
     "execution_count": 22,
     "metadata": {},
     "output_type": "execute_result"
    }
   ],
   "source": [
    "# Calculate the p-value\n",
    "p_value = st.norm.sf(abs(z))\n",
    "p_value"
   ]
  },
  {
   "cell_type": "markdown",
   "id": "c4b5b19d",
   "metadata": {},
   "source": [
    "Conclusion\n",
    "- Reject H_0 Which means accept H_a so  it does appear that true average daily calorie intake for teens who typically eat fast\n",
    "food exceeds by more than 200 the true average intake for those who don’t typically\n",
    "eat such food.\n",
    "\n",
    "- Because , we again reject the null hypothesis at significance level .05.\n",
    "However, the P-value is not small enough to justify rejecting H0 at significance\n",
    "level .01."
   ]
  },
  {
   "cell_type": "code",
   "execution_count": null,
   "id": "71536db0",
   "metadata": {},
   "outputs": [],
   "source": []
  },
  {
   "cell_type": "code",
   "execution_count": null,
   "id": "11f0d54f",
   "metadata": {},
   "outputs": [],
   "source": []
  },
  {
   "cell_type": "markdown",
   "id": "43ee3ac3",
   "metadata": {},
   "source": [
    "## z Test using build in function"
   ]
  },
  {
   "cell_type": "markdown",
   "id": "7f9ab33a",
   "metadata": {},
   "source": [
    "from statsmodels.stats.weightstats import ztest as ztest\n",
    "\n",
    "$H_0: \\mu_1 -\\mu_0 = Value$ V/S $H_a: \\mu_1 -\\mu_0 \\neq Value$ \n",
    "\n",
    "Significance level 0.05\n",
    "\n",
    "\n",
    "https://www.statsmodels.org/dev/generated/statsmodels.stats.weightstats.ztest.html"
   ]
  },
  {
   "cell_type": "markdown",
   "id": "fc8cf00a",
   "metadata": {},
   "source": [
    "QUESTION\n",
    "\n",
    "Suppose the IQ levels among individuals in two different cities are known to be normally distributed with known standard deviations.\n",
    "\n",
    "A researcher wants to know if the mean IQ level between individuals in city A and city B are different, so she selects a simple random sample of  45 individuals from each city and records their IQ levels.\n",
    "\n",
    "cityA = 82, 84, 85, 89, 91, 91, 92, 94, 99, 99,105, 109, 109, 109, 110, 112, 112, 113, 114, 114,82, 84, 85, 89, 91, 91, 92, 94, 99, 99,105, 109, 109, 109, 110, 112, 112, 113, 114, 114,78,89,118,109,100\n",
    "\n",
    "cityB = 90, 91, 91, 91, 95, 95, 99, 99, 108, 109,109, 114, 115, 116, 117, 117, 128, 129, 130, 133,90, 91, 91, 91, 95, 95, 99, 99, 108, 109,109, 114, 115, 116, 117, 117, 128, 129, 130, 133,88,98,69,102,99"
   ]
  },
  {
   "cell_type": "code",
   "execution_count": 21,
   "id": "f8859cc0",
   "metadata": {},
   "outputs": [],
   "source": [
    "from statsmodels.stats.weightstats import ztest\n"
   ]
  },
  {
   "cell_type": "code",
   "execution_count": 26,
   "id": "bf81a0ad",
   "metadata": {},
   "outputs": [],
   "source": [
    "city_a =[82, 84, 85, 89, 91, 91, 92, 94, 99, 99,105, 109, 109, 109, 110,\n",
    "         112, 112, 113, 114, 114,82, 84, 85, 89, 91, 91, 92, 94, 99, 99,\n",
    "         105, 109, 109, 109, 110, 112, 112, 113, 114, 114,78,89,118,109,100]\n",
    "\n",
    "city_b =[90, 91, 91, 91, 95, 95, 99, 99, 108, 109,109, \n",
    "         114, 115, 116, 117, 117, 128, 129, 130, 133,90, 91, 91, 91, 95, 95, 99, 99, \n",
    "         108, 109,109, 114, 115, 116, 117, 117, 128, 129, 130, 133,88,98,69,102,99]\n",
    "\n",
    "\n",
    "import statsmodels as sm\n",
    "z,p = ztest(city_a,city_b,value=0) # Value=0 means H_0: mu_0 -mu_1 = 0"
   ]
  },
  {
   "cell_type": "code",
   "execution_count": 27,
   "id": "239cc0ad",
   "metadata": {},
   "outputs": [
    {
     "name": "stdout",
     "output_type": "stream",
     "text": [
      "Reject H_0\n"
     ]
    }
   ],
   "source": [
    "if p <0.05 :\n",
    "    print(\"Reject H_0\")\n",
    "else:\n",
    "    print(\"No evidence to reject H_0)\")"
   ]
  },
  {
   "cell_type": "markdown",
   "id": "5fc2c171",
   "metadata": {},
   "source": [
    "Conclusion\n",
    "\n",
    "- The difference between the mean values is not equal to 0\n",
    "\n",
    "- There is a significance difference between mean values of two populations"
   ]
  },
  {
   "cell_type": "code",
   "execution_count": null,
   "id": "c81ca566",
   "metadata": {},
   "outputs": [],
   "source": []
  },
  {
   "cell_type": "code",
   "execution_count": null,
   "id": "b31021ce",
   "metadata": {},
   "outputs": [],
   "source": []
  },
  {
   "cell_type": "code",
   "execution_count": null,
   "id": "a151c111",
   "metadata": {},
   "outputs": [],
   "source": []
  },
  {
   "cell_type": "code",
   "execution_count": 23,
   "id": "1dd4b250",
   "metadata": {},
   "outputs": [
    {
     "name": "stdout",
     "output_type": "stream",
     "text": [
      "t-statistic: 1.6035674514745464\n",
      "p-value: 0.11709007587900368\n"
     ]
    }
   ],
   "source": [
    "import numpy as np\n",
    "from scipy import stats\n",
    "\n",
    "# Create two arrays to hold the measurements of each group of 20 plants.\n",
    "group1 = np.array([14, 15, 16, 17, 18, 19, 20, 21, 22, 23, 24, 25, 26, 27, 28, 29, 30, 31, 32, 33])\n",
    "group2 = np.array([11, 12, 13, 14, 15, 16, 17, 18, 19, 20, 21, 22, 23, 24, 25, 26, 27, 28, 29, 30])\n",
    "\n",
    "# Perform the two sample t-test.\n",
    "t, p = stats.ttest_ind(group1, group2)\n",
    "\n",
    "# Print the results.\n",
    "print(\"t-statistic:\", t)\n",
    "print(\"p-value:\", p)"
   ]
  },
  {
   "cell_type": "code",
   "execution_count": null,
   "id": "90a1f016",
   "metadata": {},
   "outputs": [],
   "source": []
  },
  {
   "cell_type": "code",
   "execution_count": null,
   "id": "896f5a13",
   "metadata": {},
   "outputs": [],
   "source": []
  },
  {
   "cell_type": "code",
   "execution_count": 27,
   "id": "645165a8",
   "metadata": {},
   "outputs": [],
   "source": [
    "# Generate normal data\n",
    "x = np.random.normal(2902.8, 277.3, 10)\n",
    "y = np.random.normal(3108.1, 205.9, 10)"
   ]
  },
  {
   "cell_type": "code",
   "execution_count": 28,
   "id": "9a18e513",
   "metadata": {},
   "outputs": [
    {
     "name": "stdout",
     "output_type": "stream",
     "text": [
      "t-statistic: -3.4253624204053623\n",
      "p-value: 0.0030171230454100425\n"
     ]
    }
   ],
   "source": [
    "t, p = stats.ttest_ind(x, y)\n",
    "# Print the results.\n",
    "print(\"t-statistic:\", t)\n",
    "print(\"p-value:\", p)"
   ]
  },
  {
   "cell_type": "code",
   "execution_count": 34,
   "id": "90ab192a",
   "metadata": {},
   "outputs": [],
   "source": [
    "t,p = st.ttest_ind(x,y,equal_var=True,alternative='less')"
   ]
  },
  {
   "cell_type": "code",
   "execution_count": 35,
   "id": "00570575",
   "metadata": {},
   "outputs": [
    {
     "data": {
      "text/plain": [
       "-3.4253624204053623"
      ]
     },
     "execution_count": 35,
     "metadata": {},
     "output_type": "execute_result"
    }
   ],
   "source": [
    "t"
   ]
  },
  {
   "cell_type": "code",
   "execution_count": 36,
   "id": "0f3134d4",
   "metadata": {},
   "outputs": [
    {
     "data": {
      "text/plain": [
       "0.0015085615227050213"
      ]
     },
     "execution_count": 36,
     "metadata": {},
     "output_type": "execute_result"
    }
   ],
   "source": [
    "p"
   ]
  },
  {
   "cell_type": "code",
   "execution_count": null,
   "id": "afa2b7af",
   "metadata": {},
   "outputs": [],
   "source": []
  },
  {
   "cell_type": "code",
   "execution_count": null,
   "id": "b162a70c",
   "metadata": {},
   "outputs": [],
   "source": []
  },
  {
   "cell_type": "code",
   "execution_count": null,
   "id": "e23ed79d",
   "metadata": {},
   "outputs": [],
   "source": []
  },
  {
   "cell_type": "markdown",
   "id": "c1e6f707",
   "metadata": {},
   "source": [
    "| Group         | Number of Students (n) | Mean Exam Score (x̄) | Standard Deviation of Exam Scores (s) |\n",
    "|---------------|------------------------|----------------------|---------------------------------------|\n",
    "| Method A      | 30                     | 75                   | 8                                     |\n",
    "| Method B      | 30                     | 80                   | 10                                    |\n"
   ]
  },
  {
   "cell_type": "code",
   "execution_count": 9,
   "id": "1154f936",
   "metadata": {},
   "outputs": [
    {
     "data": {
      "text/plain": [
       "(array([89.11241877, 78.20125767, 82.82990387, 92.92714559, 89.94046392,\n",
       "        67.18177696, 82.60070734, 73.78914233, 74.17424919, 78.28478802,\n",
       "        76.15234857, 86.63418806, 81.0883018 , 75.97340013, 78.55090586,\n",
       "        77.66939462, 86.95263259, 73.35873389, 77.50454161, 68.16723409,\n",
       "        54.57608147, 80.22894876, 81.91548959, 69.06267984, 93.15803699,\n",
       "        63.3650746 , 75.36606814, 73.5025292 , 87.26223371, 86.75487016]),\n",
       " array([81.54947426, 83.7816252 , 71.12214252, 60.19203532, 76.52087851,\n",
       "        81.56348969, 92.30290681, 92.02379849, 76.12673183, 76.97697249,\n",
       "        69.51447035, 65.79982063, 62.93729809, 99.50775395, 74.90347818,\n",
       "        75.61925698, 67.4720464 , 87.77490356, 63.86102152, 77.8725972 ,\n",
       "        71.04533439, 83.86902498, 74.89194862, 68.19367816, 79.71817772,\n",
       "        84.28331871, 80.66517222, 83.02471898, 73.65677906, 76.37258834]))"
      ]
     },
     "execution_count": 9,
     "metadata": {},
     "output_type": "execute_result"
    }
   ],
   "source": [
    "np.random.seed(0)  # Setting seed for reproducibility\n",
    "scores_method_a = np.random.normal(loc=75, scale=8, size=30)\n",
    "\n",
    "# For Method B, generating an array of 30 scores using the mean and standard deviation\n",
    "scores_method_b = np.random.normal(loc=80, scale=10, size=30)\n",
    "\n",
    "scores_method_a, scores_method_b\n"
   ]
  },
  {
   "cell_type": "code",
   "execution_count": 10,
   "id": "5f9651eb",
   "metadata": {},
   "outputs": [],
   "source": [
    "t,p = st.ttest_ind(scores_method_a,scores_method_b,equal_var=False)"
   ]
  },
  {
   "cell_type": "code",
   "execution_count": 11,
   "id": "c7d85e3b",
   "metadata": {},
   "outputs": [
    {
     "data": {
      "text/plain": [
       "0.62063191399003"
      ]
     },
     "execution_count": 11,
     "metadata": {},
     "output_type": "execute_result"
    }
   ],
   "source": [
    "t"
   ]
  },
  {
   "cell_type": "code",
   "execution_count": 12,
   "id": "128df5b2",
   "metadata": {},
   "outputs": [
    {
     "data": {
      "text/plain": [
       "0.5372765672318951"
      ]
     },
     "execution_count": 12,
     "metadata": {},
     "output_type": "execute_result"
    }
   ],
   "source": [
    "p"
   ]
  },
  {
   "cell_type": "code",
   "execution_count": 13,
   "id": "9f3492eb",
   "metadata": {},
   "outputs": [
    {
     "data": {
      "text/plain": [
       "78.5428515781054"
      ]
     },
     "execution_count": 13,
     "metadata": {},
     "output_type": "execute_result"
    }
   ],
   "source": [
    "scores_method_a.mean()"
   ]
  },
  {
   "cell_type": "code",
   "execution_count": 14,
   "id": "4fe6c292",
   "metadata": {},
   "outputs": [
    {
     "data": {
      "text/plain": [
       "77.10478143846018"
      ]
     },
     "execution_count": 14,
     "metadata": {},
     "output_type": "execute_result"
    }
   ],
   "source": [
    "scores_method_b.mean()"
   ]
  },
  {
   "cell_type": "code",
   "execution_count": null,
   "id": "43e8e5e5",
   "metadata": {},
   "outputs": [],
   "source": []
  },
  {
   "cell_type": "code",
   "execution_count": null,
   "id": "e85d25b3",
   "metadata": {},
   "outputs": [],
   "source": []
  },
  {
   "cell_type": "code",
   "execution_count": null,
   "id": "4cefeee1",
   "metadata": {},
   "outputs": [],
   "source": []
  },
  {
   "cell_type": "code",
   "execution_count": 8,
   "id": "e25417ea",
   "metadata": {},
   "outputs": [
    {
     "name": "stdout",
     "output_type": "stream",
     "text": [
      "t-statistic: -4.791086784846971, p-value: 1.3343112654816844e-05\n"
     ]
    }
   ],
   "source": [
    "scores_method_a = np.random.normal(75, 8, 30)  # Mean = 75, SD = 8, N = 30\n",
    "scores_method_b = np.random.normal(80, 10, 30)  # Mean = 80, SD = 10, N = 30\n",
    "\n",
    "# Perform Welch's t-test\n",
    "t, p = st.ttest_ind(scores_method_a, scores_method_b, equal_var=False)\n",
    "\n",
    "print(f\"t-statistic: {t}, p-value: {p}\")"
   ]
  },
  {
   "cell_type": "code",
   "execution_count": null,
   "id": "61160388",
   "metadata": {},
   "outputs": [],
   "source": []
  }
 ],
 "metadata": {
  "kernelspec": {
   "display_name": "Python 3 (ipykernel)",
   "language": "python",
   "name": "python3"
  },
  "language_info": {
   "codemirror_mode": {
    "name": "ipython",
    "version": 3
   },
   "file_extension": ".py",
   "mimetype": "text/x-python",
   "name": "python",
   "nbconvert_exporter": "python",
   "pygments_lexer": "ipython3",
   "version": "3.7.15"
  }
 },
 "nbformat": 4,
 "nbformat_minor": 5
}
