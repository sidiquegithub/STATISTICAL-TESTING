{
 "cells": [
  {
   "cell_type": "markdown",
   "id": "39af049e",
   "metadata": {},
   "source": [
    "# TESTS ABOUT A SINGLE MEAN"
   ]
  },
  {
   "cell_type": "markdown",
   "id": "030e4288",
   "metadata": {},
   "source": [
    "#### 1) ztests\n",
    "- 1.1) Normal population with known standard deviation\n",
    "- 1.2) Large Sample Test\n",
    "- 1.3) z tests using in build function\n",
    "\n",
    "#### 2) t tests\n",
    "- 2.1) Small sample test in a normal population\n",
    "- 2.2) t test using in build function"
   ]
  },
  {
   "cell_type": "code",
   "execution_count": 2,
   "id": "4bb8f9a0",
   "metadata": {},
   "outputs": [],
   "source": [
    "import numpy as np\n",
    "import matplotlib.pyplot as plt\n",
    "import pandas as pd\n",
    "import scipy.stats as st"
   ]
  },
  {
   "cell_type": "markdown",
   "id": "d6fc79d2",
   "metadata": {},
   "source": [
    "# 1) z TESTS"
   ]
  },
  {
   "cell_type": "markdown",
   "id": "2b13913b",
   "metadata": {},
   "source": [
    "## 1.1) NORMAL POPULATION WITH KNOWN STANDARD DEVIATION\n",
    "\n",
    "Although the assumption that the value of s is known is rarely met in practice, this\n",
    "case provides a good starting point because of the ease with which general procedures and their properties can be developed"
   ]
  },
  {
   "cell_type": "markdown",
   "id": "4ca0d6e6",
   "metadata": {},
   "source": [
    "- Test : Z Test\n",
    "- Test Statistics : z = (sample mean - proposed mean)/((population standard deviation / root of dample size)\n",
    "$$z = \\frac{x_0- \\mu_o}{\\sigma/\\sqrt(n)} $$\n"
   ]
  },
  {
   "cell_type": "code",
   "execution_count": 2,
   "id": "e09ee5cb",
   "metadata": {},
   "outputs": [],
   "source": [
    "# QUESTION\n",
    "# Created below is a data with standard deviation 1.5\n",
    "\n",
    "data = np.random.normal(128,1.5,10000)\n",
    "\n",
    "# i) Plot density function of the data and identify the distribution.\n",
    "# ii) Select a sample of 9 from the data and using its mean test the following hypothesis. \n",
    "\n",
    "#    H_0 := Population mean = 130 v/s H_a:= Population mean > 130 ( Right Tailed Test)\n",
    "#    Significance level = 0.01"
   ]
  },
  {
   "cell_type": "code",
   "execution_count": 3,
   "id": "0327ca3f",
   "metadata": {},
   "outputs": [],
   "source": [
    "# i) For distribution let us convert it into data frame and use \n",
    "df = pd.DataFrame(data,columns=['Value'])"
   ]
  },
  {
   "cell_type": "code",
   "execution_count": 4,
   "id": "409a5f48",
   "metadata": {},
   "outputs": [
    {
     "data": {
      "text/plain": [
       "<AxesSubplot:ylabel='Density'>"
      ]
     },
     "execution_count": 4,
     "metadata": {},
     "output_type": "execute_result"
    },
    {
     "data": {
      "image/png": "[encoded data removed]",
      "text/plain": [
       "<Figure size 640x480 with 1 Axes>"
      ]
     },
     "metadata": {},
     "output_type": "display_data"
    }
   ],
   "source": [
    "df.plot.kde()"
   ]
  },
  {
   "cell_type": "code",
   "execution_count": 5,
   "id": "a69a670d",
   "metadata": {},
   "outputs": [],
   "source": [
    "#Create a sample of size\n",
    "sample = np.random.choice(data, size=9)"
   ]
  },
  {
   "cell_type": "code",
   "execution_count": 6,
   "id": "4c356b85",
   "metadata": {},
   "outputs": [
    {
     "data": {
      "text/plain": [
       "128.13648256413455"
      ]
     },
     "execution_count": 6,
     "metadata": {},
     "output_type": "execute_result"
    }
   ],
   "source": [
    "#Calculate sample mean\n",
    "sample_mean = sample.mean()"
   ]
  },
  {
   "cell_type": "code",
   "execution_count": 7,
   "id": "b4eed657",
   "metadata": {},
   "outputs": [],
   "source": [
    "# Create test statistic\n",
    "z = (sample_mean-130)/(1.5/np.sqrt(9))"
   ]
  },
  {
   "cell_type": "code",
   "execution_count": 8,
   "id": "966b9fc5",
   "metadata": {},
   "outputs": [],
   "source": [
    "# Calculate critical value\n",
    "# use norm.ppt form scipy.stats\n",
    "critical_value = st.norm.ppf(1-0.01)      # 1-0.01 because right tailed test "
   ]
  },
  {
   "cell_type": "code",
   "execution_count": 9,
   "id": "8d1a534b",
   "metadata": {},
   "outputs": [
    {
     "name": "stdout",
     "output_type": "stream",
     "text": [
      "We cant reject H_0\n"
     ]
    }
   ],
   "source": [
    "if z>critical_value:\n",
    "    print(\"Reject H_0\")\n",
    "else:\n",
    "    print(\"We cant reject H_0\")"
   ]
  },
  {
   "cell_type": "markdown",
   "id": "3c201334",
   "metadata": {},
   "source": [
    "Conclusion\n",
    "- No evidence for H_a, So no evidence for mean greater than 130"
   ]
  },
  {
   "cell_type": "markdown",
   "id": "b3c9e821",
   "metadata": {},
   "source": [
    "------------"
   ]
  },
  {
   "cell_type": "markdown",
   "id": "315007db",
   "metadata": {},
   "source": [
    "## 1.2) LARGE SAMPLE TEST ANY POPULATION"
   ]
  },
  {
   "cell_type": "markdown",
   "id": "83d81f2c",
   "metadata": {},
   "source": [
    "For any population and for large sample we  can use z test. This is because of central limit theorem"
   ]
  },
  {
   "cell_type": "markdown",
   "id": "c091687d",
   "metadata": {},
   "source": [
    "- Test : z test\n",
    "- Test Statistic : \n",
    "$$z = \\frac{x_0- \\mu_o}{s/\\sqrt(n)} $$\n",
    "\n",
    "- $x_0 =$  sample mean\n",
    "- $\\mu_0 =$  Proposed mean\n",
    "- $s = $ Sample standard deviation"
   ]
  },
  {
   "cell_type": "code",
   "execution_count": 10,
   "id": "e25faab3",
   "metadata": {},
   "outputs": [],
   "source": [
    "data = np.random.random(size =10000)"
   ]
  },
  {
   "cell_type": "code",
   "execution_count": 11,
   "id": "ff91d1d0",
   "metadata": {},
   "outputs": [],
   "source": [
    "# Question \n",
    "# Select a sample of size 160 from above data and check the claim that the mean of the above data is not equal to 0.80\n",
    "# Use significant leve of 0.05"
   ]
  },
  {
   "cell_type": "code",
   "execution_count": 12,
   "id": "4eae3ab4",
   "metadata": {},
   "outputs": [],
   "source": [
    "# Answer "
   ]
  },
  {
   "cell_type": "markdown",
   "id": "fe6c10fd",
   "metadata": {},
   "source": [
    "Null Hypothesis $H_0 : \\mu = 0.80$ \n",
    "\n",
    "Alternate Hypothesis$H_0 : \\mu \\neq 0.80$\n",
    "\n",
    "Rejection Region : $ z < -z_{\\alpha} $ OR $z > z_{\\alpha}$"
   ]
  },
  {
   "cell_type": "markdown",
   "id": "bd8d7522",
   "metadata": {},
   "source": [
    "So $\\mu_0 = 0.80$"
   ]
  },
  {
   "cell_type": "code",
   "execution_count": 13,
   "id": "e0c7a08c",
   "metadata": {},
   "outputs": [],
   "source": [
    "#Sample\n",
    "sample = np.random.choice(data, size=160)\n",
    "\n",
    "# Sample mean\n",
    "x_0 = sample.mean()\n",
    "\n",
    "# Sample standard deviation\n",
    "s = sample.std()"
   ]
  },
  {
   "cell_type": "code",
   "execution_count": 14,
   "id": "66b4b90b",
   "metadata": {},
   "outputs": [],
   "source": [
    "# Test statistics\n",
    "z = (x_0 - 0.80)/((s/np.sqrt(160)))"
   ]
  },
  {
   "cell_type": "code",
   "execution_count": 15,
   "id": "84880e95",
   "metadata": {},
   "outputs": [],
   "source": [
    "# Critical Value \n",
    "critical_value = st.norm.ppf(1-0.05/2)"
   ]
  },
  {
   "cell_type": "code",
   "execution_count": 16,
   "id": "9a0de722",
   "metadata": {},
   "outputs": [
    {
     "name": "stdout",
     "output_type": "stream",
     "text": [
      "Reject H_0\n"
     ]
    }
   ],
   "source": [
    "if  z<= -critical_value or  z >= critical_value:\n",
    "    print(\"Reject H_0\")\n",
    "else:\n",
    "    print(\"We cant reject H_0\")"
   ]
  },
  {
   "cell_type": "markdown",
   "id": "2ae65a27",
   "metadata": {},
   "source": [
    " Conclusion\n",
    "- Reject H_0, So accept H_a\n",
    "- Evidence for mean not equal to 0.80"
   ]
  },
  {
   "cell_type": "markdown",
   "id": "aac88b0f",
   "metadata": {},
   "source": [
    "--------------------"
   ]
  },
  {
   "cell_type": "markdown",
   "id": "120975fe",
   "metadata": {},
   "source": [
    "## 1.3) z Test Using In-Build Functions"
   ]
  },
  {
   "cell_type": "markdown",
   "id": "96c1b934",
   "metadata": {},
   "source": [
    "- from statsmodels.stats.weightstats import ztest\n",
    "\n",
    "- This check $H0 : Mean = \\mu_0$ V/S $H_a: Mean \\neq \\mu_0$\n",
    "\n",
    "- Significance level used in this test is 0.05\n",
    "\n",
    "https://www.statsmodels.org/dev/generated/statsmodels.stats.weightstats.ztest.html"
   ]
  },
  {
   "cell_type": "code",
   "execution_count": 63,
   "id": "b2c79beb",
   "metadata": {},
   "outputs": [],
   "source": [
    "# QUESTION "
   ]
  },
  {
   "cell_type": "markdown",
   "id": "8c2e2cab",
   "metadata": {},
   "source": [
    "Suppose the IQ in a certain population is normally distributed with a mean of μ = 100 and standard deviation of σ = 15. A new drug is introduced into the population.A researcher wants to know if a new drug affects IQ levels, so he recruits 45 patients to try it and records their IQ levels.\n",
    "\n",
    "IQ levels for this 45 patients are 88, 92, 94, 94, 96, 97, 97, 97, 99, 99,\n",
    "105, 109, 109, 109, 110, 112, 112, 113, 114, 115,89, 92, 96, 94, 95, 98, 98, 100, 99, 99,\n",
    "105, 109, 109, 108, 100, 112, 112, 113, 114, 115,89,99,96,90,112."
   ]
  },
  {
   "cell_type": "code",
   "execution_count": null,
   "id": "7164f5ee",
   "metadata": {},
   "outputs": [],
   "source": [
    "# ANSWER"
   ]
  },
  {
   "cell_type": "markdown",
   "id": "cb5623e7",
   "metadata": {},
   "source": [
    "$H_0: \\mu = 100$ V/S $H_a: \\mu \\neq 100$"
   ]
  },
  {
   "cell_type": "code",
   "execution_count": 54,
   "id": "f631d49c",
   "metadata": {},
   "outputs": [],
   "source": [
    "data = [88, 92, 94, 94, 96, 97, 97, 97, 99, 99, 105, 109, 109, 109, 110, 112, 112, 113, 114, 115,89, 92, 96, 94, 95, 98, 98, 100, 99, 99, 105, 109, 109, 108, 100, 112, 112, 113, 114, 115,89,99,96,90,112]"
   ]
  },
  {
   "cell_type": "code",
   "execution_count": 64,
   "id": "8b9ebf98",
   "metadata": {},
   "outputs": [],
   "source": [
    "import statsmodels as sm\n",
    "z,p = sm.stats.weightstats.ztest(data,value=100)"
   ]
  },
  {
   "cell_type": "code",
   "execution_count": 60,
   "id": "5ebb81c4",
   "metadata": {},
   "outputs": [
    {
     "data": {
      "text/plain": [
       "0.1101266701438426"
      ]
     },
     "execution_count": 60,
     "metadata": {},
     "output_type": "execute_result"
    }
   ],
   "source": [
    "p"
   ]
  },
  {
   "cell_type": "code",
   "execution_count": 62,
   "id": "c2d87502",
   "metadata": {},
   "outputs": [
    {
     "name": "stdout",
     "output_type": "stream",
     "text": [
      "We Can't Reject H_0\n"
     ]
    }
   ],
   "source": [
    "if p<= 0.05:\n",
    "    print(\"Reject H_0\")\n",
    "else:\n",
    "    print(\"We Can't Reject H_0\")"
   ]
  },
  {
   "cell_type": "markdown",
   "id": "a1355cf9",
   "metadata": {},
   "source": [
    "Conclusion\n",
    "\n",
    "we do not have sufficient evidence to reject the null hypothesis. In other words, the new drug does not significantly affect IQ level."
   ]
  },
  {
   "cell_type": "markdown",
   "id": "2472475e",
   "metadata": {},
   "source": [
    "-----------------\n",
    "---------------"
   ]
  },
  {
   "cell_type": "markdown",
   "id": "9ac51009",
   "metadata": {},
   "source": [
    "# 2) t TESTS"
   ]
  },
  {
   "cell_type": "markdown",
   "id": "d8a8487f",
   "metadata": {},
   "source": [
    "## 2.1) SMALL SAMPLE TEST IN NORMAL POPULATION"
   ]
  },
  {
   "cell_type": "markdown",
   "id": "23689500",
   "metadata": {},
   "source": [
    "Test: t Test\n",
    "Test Statistic: \n",
    " $$t = \\frac{x_0- \\mu_o}{s/\\sqrt(n)} $$\n",
    "\n",
    "- $x_0 =$  sample mean\n",
    "- $\\mu_0 =$  Proposed mean\n",
    "- $s = $ Sample standard deviation"
   ]
  },
  {
   "cell_type": "code",
   "execution_count": 17,
   "id": "9c65158f",
   "metadata": {},
   "outputs": [],
   "source": [
    "data = np.random.normal(128,1.5,10000)"
   ]
  },
  {
   "cell_type": "code",
   "execution_count": 18,
   "id": "a669306f",
   "metadata": {},
   "outputs": [],
   "source": [
    "# Question \n",
    "# By taking a sample of 20, check population mean of above data is less than 110.\n",
    "# ignificance level 0.1"
   ]
  },
  {
   "cell_type": "code",
   "execution_count": 19,
   "id": "1ba1b8f8",
   "metadata": {},
   "outputs": [],
   "source": [
    "# ANSWER"
   ]
  },
  {
   "cell_type": "markdown",
   "id": "f0bb3391",
   "metadata": {},
   "source": [
    "Null Hypothesis $H_0 : \\mu =110$ \n",
    "\n",
    "Alternate Hypothesis$H_0 : \\mu < 110$\n",
    "\n",
    "$\\mu_0 = 110$"
   ]
  },
  {
   "cell_type": "markdown",
   "id": "ebb34642",
   "metadata": {},
   "source": [
    "Rejection Region :$ t \\leq - t_{\\alpha,n-1}$"
   ]
  },
  {
   "cell_type": "code",
   "execution_count": 20,
   "id": "77b0a438",
   "metadata": {},
   "outputs": [],
   "source": [
    "# Sample \n",
    "sample = np.random.choice(data, size=20)"
   ]
  },
  {
   "cell_type": "code",
   "execution_count": 21,
   "id": "ea8fe9de",
   "metadata": {},
   "outputs": [],
   "source": [
    "sample_mean = sample.mean()\n",
    "sample_std = sample.std()"
   ]
  },
  {
   "cell_type": "code",
   "execution_count": 22,
   "id": "76079e36",
   "metadata": {},
   "outputs": [],
   "source": [
    "# Test statistic \n",
    "t = (sample_mean-110)/(sample_std/np.sqrt(20))"
   ]
  },
  {
   "cell_type": "code",
   "execution_count": 23,
   "id": "9fc98671",
   "metadata": {},
   "outputs": [],
   "source": [
    "# Critical value -t_{alpha,n-1}\n",
    "critical_t = -(st.t.ppf(0.1, 19))"
   ]
  },
  {
   "cell_type": "code",
   "execution_count": 24,
   "id": "1d476954",
   "metadata": {},
   "outputs": [
    {
     "name": "stdout",
     "output_type": "stream",
     "text": [
      "We Can't Reject H_0\n"
     ]
    }
   ],
   "source": [
    "if t<= critical_t:\n",
    "    print(\"Reject H_0\")\n",
    "else:\n",
    "    print(\"We Can't Reject H_0\")"
   ]
  },
  {
   "cell_type": "markdown",
   "id": "ea902f22",
   "metadata": {},
   "source": [
    "- No evidence for alernate hypothersis.\n",
    "- So no evidence for Mean less than 110"
   ]
  },
  {
   "cell_type": "markdown",
   "id": "ce9f815e",
   "metadata": {},
   "source": [
    "-------------------"
   ]
  },
  {
   "cell_type": "markdown",
   "id": "2781c0e4",
   "metadata": {},
   "source": [
    "## One sample t test using in build function"
   ]
  },
  {
   "cell_type": "markdown",
   "id": "369369ea",
   "metadata": {},
   "source": [
    "In build one sample t test from scipy stats"
   ]
  },
  {
   "cell_type": "markdown",
   "id": "57218d96",
   "metadata": {},
   "source": [
    "- import scipy.stats as st\n",
    "- scipy.stats.ttest_1samp \n",
    "\n",
    "- Inbuild significance level in this test is 0.05 \n",
    "- So if p value less than 0.05 we reject null hypothesis\n",
    "\n",
    "https://docs.scipy.org/doc/scipy/reference/generated/scipy.stats.ttest_1samp.html"
   ]
  },
  {
   "cell_type": "code",
   "execution_count": 30,
   "id": "6c14375d",
   "metadata": {},
   "outputs": [],
   "source": [
    "# Example\n",
    "\n",
    "import scipy.stats as st \n",
    "\n",
    "data = np.random.normal(128,1.5,10000)\n",
    "\n",
    "sample = np.random.choice(data, size=110)\n",
    "\n",
    "t,p = st.ttest_1samp(a=sample,popmean=127)    # We are checking H_0 : Mean of sample = 127 V/S H_a : Mean of sample not equal to 127"
   ]
  },
  {
   "cell_type": "code",
   "execution_count": 31,
   "id": "333e146f",
   "metadata": {},
   "outputs": [
    {
     "data": {
      "text/plain": [
       "2.1773890667046802e-07"
      ]
     },
     "execution_count": 31,
     "metadata": {},
     "output_type": "execute_result"
    }
   ],
   "source": [
    "p"
   ]
  },
  {
   "cell_type": "markdown",
   "id": "70ec15d9",
   "metadata": {},
   "source": [
    "Conclusion\n",
    "- Extremely small p value says that the we reject the null hypothesis\n",
    "- So we accept the alternate hypothesis that the mean of sample differ from 127"
   ]
  },
  {
   "cell_type": "markdown",
   "id": "2b0cc1a8",
   "metadata": {},
   "source": [
    "QUESTION \n",
    "\n",
    "Create a data for school height and create a data for class height. Check Whether mean of school height is differ from mean of class height "
   ]
  },
  {
   "cell_type": "code",
   "execution_count": 36,
   "id": "d5edfa8a",
   "metadata": {},
   "outputs": [],
   "source": [
    "#ANSWER\n",
    "School_height = np.random.normal(158,1.5,1000)\n",
    "Class_height = np.random.normal(156,2,60)"
   ]
  },
  {
   "cell_type": "code",
   "execution_count": 37,
   "id": "c0e3f19a",
   "metadata": {},
   "outputs": [],
   "source": [
    "t,p = st.ttest_1samp(School_height,popmean=Class_height.mean()) # H_0 = Mean of School_height = Mean of Class_height"
   ]
  },
  {
   "cell_type": "code",
   "execution_count": 38,
   "id": "afea6ce4",
   "metadata": {},
   "outputs": [
    {
     "data": {
      "text/plain": [
       "5.530183823343602e-206"
      ]
     },
     "execution_count": 38,
     "metadata": {},
     "output_type": "execute_result"
    }
   ],
   "source": [
    "p"
   ]
  },
  {
   "cell_type": "code",
   "execution_count": 46,
   "id": "0f3eb4af",
   "metadata": {},
   "outputs": [
    {
     "name": "stdout",
     "output_type": "stream",
     "text": [
      "Reject H_0\n"
     ]
    }
   ],
   "source": [
    "if p<= 0.05:\n",
    "    print(\"Reject H_0\")\n",
    "else:\n",
    "    print(\"We Can't Reject H_0\")"
   ]
  },
  {
   "cell_type": "markdown",
   "id": "a809a56b",
   "metadata": {},
   "source": [
    "Conclusion\n",
    "\n",
    "- Very low p value suggest that we reject the null hpothesis\n",
    "- So there is a significance difference between mean values of School_height and Class_height"
   ]
  },
  {
   "cell_type": "code",
   "execution_count": 41,
   "id": "c029e55e",
   "metadata": {},
   "outputs": [],
   "source": [
    "# Let us do with some other random variable\n",
    "\n",
    "School_height = st.poisson.rvs(loc=20,mu=35,size= 150) # loc = left minimum and mu = mean\n",
    "Class_height = st.poisson.rvs(loc=25,mu=33,size= 50)"
   ]
  },
  {
   "cell_type": "code",
   "execution_count": 44,
   "id": "26391438",
   "metadata": {},
   "outputs": [],
   "source": [
    "t,p = st.ttest_1samp(School_height, popmean=Class_height.mean())"
   ]
  },
  {
   "cell_type": "code",
   "execution_count": 45,
   "id": "b4ff71b9",
   "metadata": {},
   "outputs": [
    {
     "data": {
      "text/plain": [
       "8.3004454170252e-07"
      ]
     },
     "execution_count": 45,
     "metadata": {},
     "output_type": "execute_result"
    }
   ],
   "source": [
    "p"
   ]
  },
  {
   "cell_type": "code",
   "execution_count": 47,
   "id": "e502ffda",
   "metadata": {},
   "outputs": [
    {
     "name": "stdout",
     "output_type": "stream",
     "text": [
      "Reject H_0\n"
     ]
    }
   ],
   "source": [
    "if p<=0.05:\n",
    "    print(\"Reject H_0\")\n",
    "else:\n",
    "    print(\"We Can't Reject H_0\")"
   ]
  },
  {
   "cell_type": "markdown",
   "id": "b13fb56b",
   "metadata": {},
   "source": [
    "Conclusion\n",
    "\n",
    "- Very low p value suggest that we reject the null hpothesis\n",
    "- So there is a significance difference between mean values of School_height and Class_height"
   ]
  },
  {
   "cell_type": "code",
   "execution_count": null,
   "id": "eba594e8",
   "metadata": {},
   "outputs": [],
   "source": []
  }
 ],
 "metadata": {
  "kernelspec": {
   "display_name": "Python 3 (ipykernel)",
   "language": "python",
   "name": "python3"
  },
  "language_info": {
   "codemirror_mode": {
    "name": "ipython",
    "version": 3
   },
   "file_extension": ".py",
   "mimetype": "text/x-python",
   "name": "python",
   "nbconvert_exporter": "python",
   "pygments_lexer": "ipython3",
   "version": "3.7.15"
  }
 },
 "nbformat": 4,
 "nbformat_minor": 5
}
