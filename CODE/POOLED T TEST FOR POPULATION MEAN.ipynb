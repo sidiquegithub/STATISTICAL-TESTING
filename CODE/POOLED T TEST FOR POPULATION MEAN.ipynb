{
 "cells": [
  {
   "cell_type": "markdown",
   "id": "e7a8c96c",
   "metadata": {},
   "source": [
    "# POOLED T TEST FOR POPULATION MEAN"
   ]
  },
  {
   "cell_type": "markdown",
   "id": "95b01316",
   "metadata": {},
   "source": [
    "Pooled t test is used when we have only one sample and making two observations on each one results in a natural pairing of values"
   ]
  },
  {
   "cell_type": "markdown",
   "id": "a59fc59c",
   "metadata": {},
   "source": [
    "EXAPMLE : Marks of students before and after introdusing a special teaching methods."
   ]
  },
  {
   "cell_type": "markdown",
   "id": "50368036",
   "metadata": {},
   "source": [
    "We can impliment pooled t test in two ways \n",
    "\n",
    "- When both the data on the same sample are given\n",
    "- Only the difference in the data is given"
   ]
  },
  {
   "cell_type": "markdown",
   "id": "946ba342",
   "metadata": {},
   "source": [
    "###  When both the data on the same sample are given"
   ]
  },
  {
   "cell_type": "markdown",
   "id": "aae2dfea",
   "metadata": {},
   "source": [
    "The pooled t-test is a statistical test that is used to compare the means of two independent groups. It is a special case of the two-sample t-test, which assumes that the variances of the two groups are equal. The pooled t-test is more powerful than the two-sample t-test when this assumption is met."
   ]
  },
  {
   "cell_type": "markdown",
   "id": "94d3a10a",
   "metadata": {},
   "source": [
    "#### QUESTION\n",
    "With the following samples check whether the mean values are significaant or not.\n",
    "\n",
    "$H_0 : \\mu_0 - \\mu_1 = 0 --and -- H_a : \\mu_0 - \\mu_1 \\neq 0 $\n"
   ]
  },
  {
   "cell_type": "markdown",
   "id": "fee023da",
   "metadata": {},
   "source": [
    "#### ANSWER"
   ]
  },
  {
   "cell_type": "code",
   "execution_count": 5,
   "id": "ac1bdb67",
   "metadata": {},
   "outputs": [
    {
     "name": "stdout",
     "output_type": "stream",
     "text": [
      "t-statistic: -5.0\n",
      "p-value: 0.001052825793366539\n"
     ]
    }
   ],
   "source": [
    "import scipy.stats as st\n",
    "\n",
    "\n",
    "data1 = [1, 2, 3, 4, 5]\n",
    "data2 = [6, 7, 8, 9, 10]\n",
    "\n",
    "\n",
    "t_statistic, p_value = st.ttest_ind(data1, data2, equal_var= True)\n",
    "\n",
    "\n",
    "print('t-statistic:', t_statistic)\n",
    "print('p-value:', p_value)"
   ]
  },
  {
   "cell_type": "markdown",
   "id": "401ab657",
   "metadata": {},
   "source": [
    "Coclusion\n",
    "\n",
    "The small p value shows to accept alternate hypothesis. So there is a significance difference between two mean values"
   ]
  },
  {
   "cell_type": "markdown",
   "id": "65410ff5",
   "metadata": {},
   "source": [
    "--------------"
   ]
  },
  {
   "cell_type": "markdown",
   "id": "65b5d91b",
   "metadata": {},
   "source": [
    "## Only the difference in the data is given"
   ]
  },
  {
   "cell_type": "markdown",
   "id": "c0296f78",
   "metadata": {},
   "source": [
    "When the difference in data is provided we can use following theory\n",
    "\n",
    "$D = X - Y$\n",
    "\n",
    "$H_0$ : To check difference in mean value is $\\Delta$"
   ]
  },
  {
   "cell_type": "markdown",
   "id": "501fbb09",
   "metadata": {},
   "source": [
    "Test : t test\n",
    "\n",
    "Test statistic : $t = \\frac{ \\bar{d} - \\Delta }{s/\\sqrt{n}} $ \n",
    "\n",
    "$\\bar{d} = sample \\ mean \\ of \\ D $\n",
    "\n",
    "$s = sample \\ standard \\  deviation\\ of \\  D$"
   ]
  },
  {
   "cell_type": "markdown",
   "id": "8120373e",
   "metadata": {},
   "source": [
    "- This is same as one sample t test "
   ]
  },
  {
   "cell_type": "markdown",
   "id": "50b5d74f",
   "metadata": {},
   "source": [
    "- So when the difference in the data is given we can make use of one sample t test "
   ]
  },
  {
   "cell_type": "markdown",
   "id": "e06edb8c",
   "metadata": {},
   "source": [
    "#### QUESTION\n",
    "Impact of Special Teaching Methods on Student Scores\n",
    "\n",
    "A school wants to evaluate the effectiveness of special teaching methods designed to improve students' understanding and scores in mathematics. To assess this, they record the scores (out of 100) of 12 students before and after implementing the special teaching methods for one semester.\n",
    "\n",
    "The differnce in the scores before and after applying the special teching method is as follows\n",
    "5,6,6,5,5,5,5,5,5,5,5,3. \n",
    "\n",
    "Did the special teaching methods significantly improve the mathematics scores of students?"
   ]
  },
  {
   "cell_type": "markdown",
   "id": "2150e263",
   "metadata": {},
   "source": [
    "#### ANSWER"
   ]
  },
  {
   "cell_type": "markdown",
   "id": "3b0c4fa4",
   "metadata": {},
   "source": [
    "$H_0 : Difference \\ in \\ mean \\ value \\ = 0$"
   ]
  },
  {
   "cell_type": "code",
   "execution_count": 13,
   "id": "d1b5186b",
   "metadata": {},
   "outputs": [],
   "source": [
    "import scipy.stats as st \n",
    "\n",
    "score_difference = [5,6,6,5,5,5,5,5,5,5,5,3]\n",
    "\n",
    "t,p = st.ttest_1samp(score_difference,0) # 0 To check significance. So delta value is 0"
   ]
  },
  {
   "cell_type": "code",
   "execution_count": 10,
   "id": "19e8eca4",
   "metadata": {},
   "outputs": [
    {
     "name": "stdout",
     "output_type": "stream",
     "text": [
      "Reject Null hypothesis\n"
     ]
    }
   ],
   "source": [
    "if p < 0.05 :\n",
    "    print(\"Reject Null hypothesis\")\n",
    "else:\n",
    "    print(\"Can't reject null hypothesis\")"
   ]
  },
  {
   "cell_type": "markdown",
   "id": "b4c8fcf2",
   "metadata": {},
   "source": [
    "This indicates that there is a significant improvement in students' scores after implementing the special teaching methods."
   ]
  },
  {
   "cell_type": "code",
   "execution_count": null,
   "id": "0e52dca7",
   "metadata": {},
   "outputs": [],
   "source": []
  }
 ],
 "metadata": {
  "kernelspec": {
   "display_name": "Python 3 (ipykernel)",
   "language": "python",
   "name": "python3"
  },
  "language_info": {
   "codemirror_mode": {
    "name": "ipython",
    "version": 3
   },
   "file_extension": ".py",
   "mimetype": "text/x-python",
   "name": "python",
   "nbconvert_exporter": "python",
   "pygments_lexer": "ipython3",
   "version": "3.7.15"
  }
 },
 "nbformat": 4,
 "nbformat_minor": 5
}
