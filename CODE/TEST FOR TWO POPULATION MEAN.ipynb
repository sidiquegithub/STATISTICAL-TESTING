{
 "cells": [
  {
   "cell_type": "markdown",
   "id": "39cced08",
   "metadata": {},
   "source": [
    "# TEST FOR DIFFERENCE BETWEEN TWO POPULATION MEAN"
   ]
  },
  {
   "cell_type": "markdown",
   "id": "c8e08076",
   "metadata": {},
   "source": [
    "##### 1) Z TESTS"
   ]
  },
  {
   "cell_type": "markdown",
   "id": "a8a55df3",
   "metadata": {},
   "source": [
    "- 1.1) NORMAL POPULATION WITH KNOWN VARIANCE\n",
    "- 1.2) LARGE SAMPLE TEST\n",
    "- 1.3) Z TEST USING BUID IN FUNCTIONS\n",
    "    - 1.3 A) For $H_a:\\mu_1-\\mu_2 \\neq value$\n",
    "    - 1.3 B) For $H_a: \\mu_1-\\mu_2 < value$ Left tail test\n",
    "    - 1.3 C) For $H_a: \\mu_1-\\mu_2 > value$ Right tailed test"
   ]
  },
  {
   "cell_type": "markdown",
   "id": "57d88449",
   "metadata": {},
   "source": [
    "##### 2) T TESTS"
   ]
  },
  {
   "cell_type": "markdown",
   "id": "91908f47",
   "metadata": {},
   "source": [
    "-------------------\n",
    "--------------\n",
    "-------------"
   ]
  },
  {
   "cell_type": "code",
   "execution_count": 1,
   "id": "1d8fe95d",
   "metadata": {},
   "outputs": [],
   "source": [
    "import numpy as np\n",
    "import pandas as pd\n",
    "import scipy.stats as st"
   ]
  },
  {
   "cell_type": "markdown",
   "id": "b6febbdd",
   "metadata": {},
   "source": [
    "Population I ($X$)\n",
    "- Mean $\\mu_1$\n",
    "- Variance $(\\sigma_1)^2$\n",
    "\n",
    "- sample size = $m$\n",
    "- sample mean = $\\bar{x}$\n",
    "\n",
    "Population II ($Y$)\n",
    "- Mean $\\mu_2$\n",
    "- Variance $(\\sigma_2)^2$\n",
    "\n",
    "- sample size = $n$\n",
    "- sample mean = $\\bar{y}$"
   ]
  },
  {
   "cell_type": "markdown",
   "id": "35c729fe",
   "metadata": {},
   "source": [
    "## 1.1) NORMAL POPULATION WITH KNOWN VARIANCE"
   ]
  },
  {
   "cell_type": "markdown",
   "id": "b8afb59a",
   "metadata": {},
   "source": [
    "Null Hypothesis $H_0 : \\mu_1 -\\mu_2 =\\Delta_0$"
   ]
  },
  {
   "cell_type": "markdown",
   "id": "bcb06692",
   "metadata": {},
   "source": [
    "TEST: Z TEST\n",
    "TEST STATISTC : $z = \\frac{\\bar{x} - \\bar{y} -\\Delta_0}{\\sqrt{\\frac{\\sigma_1^2}{m}+\\frac{\\sigma_2^2}{n}}}$"
   ]
  },
  {
   "cell_type": "markdown",
   "id": "d966cc4b",
   "metadata": {},
   "source": [
    "Question\n",
    "\n",
    "Analysis of a random sample consisting of m = 20 specimens of cold-rolled steel to\n",
    "determine yield strengths resulted in a sample average strength of $\\bar{x} = 29.8$ksi . A\n",
    "second random sample of $n=25$ two-sided galvanized steel specimens gave a sample average strength of $\\bar{y} =34.7$ . Assuming that the two yield-strength distributions are normal with $\\sigma_1 = 4.0$ and $\\sigma_2 = 5.0$ (suggested by a graph in the article\n",
    "“Zinc-Coated Sheet Steel: An Overview,” Automotive Engr., Dec. 1984: 39–43),\n",
    "does the data indicate that the corresponding true average yield strengths $\\mu_1$ and $\\mu_2$\n",
    "are different? Let’s carry out a test at significance level $\\alpha = 0.01$."
   ]
  },
  {
   "cell_type": "markdown",
   "id": "9853211d",
   "metadata": {},
   "source": [
    "ANSWER\n",
    "\n",
    "- To check H_0 : $\\mu_1 - \\mu_2 = 0 $\n",
    "- H_a :  $\\mu_1 - \\mu_2 \\neq 0 $"
   ]
  },
  {
   "cell_type": "code",
   "execution_count": 2,
   "id": "f06d8450",
   "metadata": {},
   "outputs": [],
   "source": [
    "# Given values\n",
    "\n",
    "# Sample mean \n",
    "x = 29.8 \n",
    "y = 34.7\n",
    "\n",
    "# Population Variance\n",
    "Sigma_X = 4.0\n",
    "Sigma_Y = 5.0\n",
    "\n",
    "# Sample size\n",
    "m = 20\n",
    "n = 25\n",
    "\n",
    "delta = 0\n",
    "\n",
    "alpha = 0.01"
   ]
  },
  {
   "cell_type": "code",
   "execution_count": 3,
   "id": "a5437d34",
   "metadata": {},
   "outputs": [],
   "source": [
    "# Test staistic\n",
    "z = (x - y - delta)/(np.sqrt((Sigma_X**2/m) + ((Sigma_Y**2/n))))"
   ]
  },
  {
   "cell_type": "code",
   "execution_count": 4,
   "id": "32207378",
   "metadata": {},
   "outputs": [],
   "source": [
    "# Critical value \n",
    "# Z value for two tailed test\n",
    "critical_value = st.norm.ppf(1-(alpha/2)) "
   ]
  },
  {
   "cell_type": "code",
   "execution_count": 5,
   "id": "1ba54822",
   "metadata": {},
   "outputs": [
    {
     "name": "stdout",
     "output_type": "stream",
     "text": [
      "Reject H_0\n"
     ]
    }
   ],
   "source": [
    "if z <= - critical_value or z >= critical_value:\n",
    "    print(\"Reject H_0\")\n",
    "else:\n",
    "    print(\"No evidence to reject H_0\")"
   ]
  },
  {
   "cell_type": "markdown",
   "id": "8766c5b1",
   "metadata": {},
   "source": [
    "Conclusion\n",
    "\n",
    "The sample\n",
    "data strongly suggests that the true average yield strength for cold-rolled steel\n",
    "differs from that for galvanized steel"
   ]
  },
  {
   "cell_type": "code",
   "execution_count": 6,
   "id": "54412972",
   "metadata": {},
   "outputs": [],
   "source": [
    "# P-value for the two-tailed z-test\n",
    "p_value = (1 - st.norm.cdf(np.abs(z))) * 2"
   ]
  },
  {
   "cell_type": "code",
   "execution_count": 7,
   "id": "fae6bf1b",
   "metadata": {},
   "outputs": [
    {
     "data": {
      "text/plain": [
       "0.00025995833275427316"
      ]
     },
     "execution_count": 7,
     "metadata": {},
     "output_type": "execute_result"
    }
   ],
   "source": [
    "p_value "
   ]
  },
  {
   "cell_type": "markdown",
   "id": "ee0116b6",
   "metadata": {},
   "source": [
    "Small P Value says that H_0 should be rejected at any reasonable significance level"
   ]
  },
  {
   "cell_type": "markdown",
   "id": "791fe9ba",
   "metadata": {},
   "source": [
    "-----------------------"
   ]
  },
  {
   "cell_type": "markdown",
   "id": "eb4c8e63",
   "metadata": {},
   "source": [
    "## 1.2) LARGE SAMPLE TEST"
   ]
  },
  {
   "cell_type": "markdown",
   "id": "1f0815ea",
   "metadata": {},
   "source": [
    "The assumptions of normal population distributions and known values of population variance\n",
    "are fortunately unnecessary when both sample sizes are sufficiently large. In this\n",
    "case, the Central Limit Theorem guarantees that has approximately a normal\n",
    "distribution regardless of the underlying population distributions\n",
    "\n",
    "### For any distribution with both large samples the test can be z test"
   ]
  },
  {
   "cell_type": "markdown",
   "id": "1145182a",
   "metadata": {},
   "source": [
    "Null Hypothesis $H_0 : \\mu_1 -\\mu_2 =\\Delta_0$"
   ]
  },
  {
   "cell_type": "markdown",
   "id": "7405da63",
   "metadata": {},
   "source": [
    "- TEST : z test\n",
    "- TEST STATISTC : $z = \\frac{\\bar{x} - \\bar{y} -\\Delta_0}{\\sqrt{\\frac{s_1^2}{m}+\\frac{s_2^2}{n}}}$\n",
    "\n",
    "- s_1 and s_2 samples standard deviations"
   ]
  },
  {
   "cell_type": "markdown",
   "id": "decb302f",
   "metadata": {},
   "source": [
    "QUESTION \n",
    "\n",
    "What impact does fast-food consumption have on various dietary and health characteristics? The article “Effects of Fast-Food Consumption on Energy Intake and Diet\n",
    "Quality Among Children in a National Household Study” (Pediatrics, 2004:\n",
    "112–118) reported the accompanying summary data on daily calorie intake both for\n",
    "a sample of teens who said they did not typically eat fast food and another sample\n",
    "of teens who said they did usually eat fast food\n",
    "\n",
    "| Eat Fast Food | Sample Size | Sample Mean | Sample SD |\n",
    "|---------------|-------------|-------------|-----------|\n",
    "| No            | 663         | 2258        | 1519      |\n",
    "| Yes           | 413         | 2637        | 1138      |\n",
    "\n",
    "\n",
    "Does this data provide strong evidence for concluding that true average calorie intake\n",
    "for teens who typically eat fast food exceeds by more than 200 calories per day the\n",
    "true average intake for those who don’t typically eat fast food? Let’s investigate by\n",
    "carrying out a test of hypotheses at a significance level of approximately .05."
   ]
  },
  {
   "cell_type": "markdown",
   "id": "3ba77b7b",
   "metadata": {},
   "source": [
    "ANSWER "
   ]
  },
  {
   "cell_type": "markdown",
   "id": "c5ef8eac",
   "metadata": {},
   "source": [
    "- LARGE SAMPLE TEST\n",
    "\n",
    "- First Sample be for \"NO\" and second sample be \"YES\"\n",
    "\n",
    "- Alternate Hypothesis $ H_a : \\mu_2 -\\mu_1 > 200$ \n",
    "- Null Hypothesis      $ H_0 : \\mu_2 -\\mu_1 = 200$"
   ]
  },
  {
   "cell_type": "markdown",
   "id": "c2bd4301",
   "metadata": {},
   "source": [
    "- TEST: Right tailed z test"
   ]
  },
  {
   "cell_type": "code",
   "execution_count": 8,
   "id": "d45a27d0",
   "metadata": {},
   "outputs": [],
   "source": [
    "# Given value\n",
    "\n",
    "# Sample mean \n",
    "x = 2258\n",
    "y = 2637\n",
    "\n",
    "# Sample Variance\n",
    "s_1 = 1519\n",
    "s_2 = 1138\n",
    "\n",
    "# Sample size\n",
    "m = 663\n",
    "n = 413\n",
    "\n",
    "delta = 200\n",
    "\n",
    "alpha = 0.05"
   ]
  },
  {
   "cell_type": "code",
   "execution_count": 9,
   "id": "eaf5f09f",
   "metadata": {},
   "outputs": [],
   "source": [
    "# Test Statistc\n",
    "z = (y-x-delta)/(np.sqrt((s_2**2/n)+(s_1**2/m)))"
   ]
  },
  {
   "cell_type": "code",
   "execution_count": 10,
   "id": "1c103363",
   "metadata": {},
   "outputs": [],
   "source": [
    "# Critical value\n",
    "critical_value = st.norm.ppf(1-alpha) "
   ]
  },
  {
   "cell_type": "code",
   "execution_count": 11,
   "id": "149513b4",
   "metadata": {
    "scrolled": true
   },
   "outputs": [
    {
     "name": "stdout",
     "output_type": "stream",
     "text": [
      "Reject H_0\n"
     ]
    }
   ],
   "source": [
    "if z >= critical_value :\n",
    "    print(\"Reject H_0\")\n",
    "else:\n",
    "    print(\"No evidence to reject H_0)\")"
   ]
  },
  {
   "cell_type": "code",
   "execution_count": 12,
   "id": "30196038",
   "metadata": {},
   "outputs": [
    {
     "data": {
      "text/plain": [
       "0.013878938882023118"
      ]
     },
     "execution_count": 12,
     "metadata": {},
     "output_type": "execute_result"
    }
   ],
   "source": [
    "# Calculate the p-value\n",
    "p_value = st.norm.sf(abs(z))\n",
    "p_value"
   ]
  },
  {
   "cell_type": "markdown",
   "id": "c4b5b19d",
   "metadata": {},
   "source": [
    "Conclusion\n",
    "- Reject H_0 Which means accept H_a so  it does appear that true average daily calorie intake for teens who typically eat fast\n",
    "food exceeds by more than 200 the true average intake for those who don’t typically\n",
    "eat such food.\n",
    "\n",
    "- Because , we again reject the null hypothesis at significance level .05.\n",
    "However, the P-value is not small enough to justify rejecting H0 at significance\n",
    "level .01."
   ]
  },
  {
   "cell_type": "code",
   "execution_count": null,
   "id": "3bddffad",
   "metadata": {},
   "outputs": [],
   "source": []
  },
  {
   "cell_type": "code",
   "execution_count": null,
   "id": "3de3d0f5",
   "metadata": {},
   "outputs": [],
   "source": []
  },
  {
   "cell_type": "code",
   "execution_count": 13,
   "id": "11f0d54f",
   "metadata": {},
   "outputs": [
    {
     "name": "stdout",
     "output_type": "stream",
     "text": [
      "2.2006914040751693\n",
      "0.013878938882023118\n"
     ]
    }
   ],
   "source": [
    "print(z)\n",
    "print(p_value)"
   ]
  },
  {
   "cell_type": "markdown",
   "id": "43ee3ac3",
   "metadata": {},
   "source": [
    "## 1.3) Z TEST USING BUILD-IN FUNCTIONS"
   ]
  },
  {
   "cell_type": "markdown",
   "id": "7f9ab33a",
   "metadata": {},
   "source": [
    "- from statsmodels.stats.weightstats import ztest as ztest\n",
    "\n",
    "\n",
    "\n",
    "- Significance level 0.05\n",
    "\n",
    "\n",
    "https://www.statsmodels.org/dev/generated/statsmodels.stats.weightstats.ztest.html"
   ]
  },
  {
   "cell_type": "markdown",
   "id": "45f6abb6",
   "metadata": {},
   "source": [
    "### 1.3 A) $H_0: \\mu_1 -\\mu_2 = value$ $VS$ $H_a: \\mu_1 -\\mu_2 \\neq value$ "
   ]
  },
  {
   "cell_type": "markdown",
   "id": "fc8cf00a",
   "metadata": {},
   "source": [
    "QUESTION\n",
    "\n",
    "Suppose the IQ levels among individuals in two different cities are known to be normally distributed with known standard deviations.\n",
    "\n",
    "A researcher wants to know if the mean IQ level between individuals in city A and city B are different, so she selects a simple random sample of  45 individuals from each city and records their IQ levels.\n",
    "\n",
    "cityA = 82, 84, 85, 89, 91, 91, 92, 94, 99, 99,105, 109, 109, 109, 110, 112, 112, 113, 114, 114,82, 84, 85, 89, 91, 91, 92, 94, 99, 99,105, 109, 109, 109, 110, 112, 112, 113, 114, 114,78,89,118,109,100\n",
    "\n",
    "cityB = 90, 91, 91, 91, 95, 95, 99, 99, 108, 109,109, 114, 115, 116, 117, 117, 128, 129, 130, 133,90, 91, 91, 91, 95, 95, 99, 99, 108, 109,109, 114, 115, 116, 117, 117, 128, 129, 130, 133,88,98,69,102,99"
   ]
  },
  {
   "cell_type": "code",
   "execution_count": 14,
   "id": "f8859cc0",
   "metadata": {},
   "outputs": [],
   "source": [
    "from statsmodels.stats.weightstats import ztest\n"
   ]
  },
  {
   "cell_type": "code",
   "execution_count": 15,
   "id": "bf81a0ad",
   "metadata": {},
   "outputs": [],
   "source": [
    "city_a =[82, 84, 85, 89, 91, 91, 92, 94, 99, 99,105, 109, 109, 109, 110,\n",
    "         112, 112, 113, 114, 114,82, 84, 85, 89, 91, 91, 92, 94, 99, 99,\n",
    "         105, 109, 109, 109, 110, 112, 112, 113, 114, 114,78,89,118,109,100]\n",
    "\n",
    "city_b =[90, 91, 91, 91, 95, 95, 99, 99, 108, 109,109, \n",
    "         114, 115, 116, 117, 117, 128, 129, 130, 133,90, 91, 91, 91, 95, 95, 99, 99, \n",
    "         108, 109,109, 114, 115, 116, 117, 117, 128, 129, 130, 133,88,98,69,102,99]\n",
    "\n",
    "\n",
    "import statsmodels as sm\n",
    "z,p = ztest(city_a,city_b,value=0) # Value=0 means H_0: mu_0 -mu_1 = 0"
   ]
  },
  {
   "cell_type": "code",
   "execution_count": 16,
   "id": "239cc0ad",
   "metadata": {},
   "outputs": [
    {
     "name": "stdout",
     "output_type": "stream",
     "text": [
      "Reject H_0\n"
     ]
    }
   ],
   "source": [
    "if p <0.05 :\n",
    "    print(\"Reject H_0\")\n",
    "else:\n",
    "    print(\"No evidence to reject H_0)\")"
   ]
  },
  {
   "cell_type": "markdown",
   "id": "5fc2c171",
   "metadata": {},
   "source": [
    "Conclusion\n",
    "\n",
    "- The difference between the mean values is not equal to 0\n",
    "\n",
    "- There is a significance difference between mean values of two populations"
   ]
  },
  {
   "cell_type": "code",
   "execution_count": null,
   "id": "7b662b2b",
   "metadata": {},
   "outputs": [],
   "source": []
  },
  {
   "cell_type": "markdown",
   "id": "da41d09d",
   "metadata": {},
   "source": [
    "### 1.3 B) $H_0: \\mu_1 -\\mu_2 = value$ $VS$ $H_a: \\mu_1 -\\mu_2 < value$ "
   ]
  },
  {
   "cell_type": "code",
   "execution_count": 17,
   "id": "b8b25ed9",
   "metadata": {},
   "outputs": [],
   "source": [
    "# QUESTION\n",
    "# Using belowe samples test whether the difference in mean of population 1 and population 2  is less than 200 \n",
    "\n",
    "\n",
    "np.random.seed(42) \n",
    "sample_size = 663\n",
    "mean = 2258\n",
    "std_dev = 1519\n",
    "\n",
    "sample_1 = np.random.normal(loc=mean, scale=std_dev, size=sample_size)\n",
    "\n",
    "sample_size_2 = 413\n",
    "mean_2 = 2637\n",
    "std_dev_2 = 1138\n",
    "\n",
    "sample_2 = np.random.normal(loc=mean_2, scale=std_dev_2, size=sample_size_2)"
   ]
  },
  {
   "cell_type": "code",
   "execution_count": 18,
   "id": "31ef5cf9",
   "metadata": {
    "scrolled": true
   },
   "outputs": [
    {
     "name": "stdout",
     "output_type": "stream",
     "text": [
      "-8.023261337413981\n",
      "5.148697488286167e-16\n",
      "Reject H_0\n"
     ]
    }
   ],
   "source": [
    "# ANSWER\n",
    "from statsmodels.stats.weightstats import ztest\n",
    "\n",
    "z_stat, p_value = ztest(sample_1, sample_2, value = 200 , alternative='smaller') \n",
    "\n",
    "print(z_stat)\n",
    "print(p_value)\n",
    "\n",
    "if p_value <= 0.05:\n",
    "    print(\"Reject H_0\")\n",
    "else:\n",
    "    print(\"Can't Reject H_0\")"
   ]
  },
  {
   "cell_type": "markdown",
   "id": "2d58f13e",
   "metadata": {},
   "source": [
    "Conclusion\n",
    "\n",
    "- Here we reject H_0 \n",
    "- So accept H_a; i.e, difference in the mean values is less than 200."
   ]
  },
  {
   "cell_type": "markdown",
   "id": "fd6631ef",
   "metadata": {},
   "source": [
    "### 1.3 C) $H_0: \\mu_1 -\\mu_2 = value$ $VS$ $H_a: \\mu_1 -\\mu_2 > value$ "
   ]
  },
  {
   "cell_type": "code",
   "execution_count": 19,
   "id": "743d4832",
   "metadata": {},
   "outputs": [],
   "source": [
    "# QUESTION\n",
    "# Using belowe samples test whether the difference in mean of population 1 and population 2  is greater than 200 \n",
    "\n",
    "sample1 = np.random.normal(500, 1, 45)\n",
    "sample2 = np.random.normal(250, 1, 50)\n"
   ]
  },
  {
   "cell_type": "code",
   "execution_count": 20,
   "id": "52d9b9a2",
   "metadata": {},
   "outputs": [
    {
     "name": "stdout",
     "output_type": "stream",
     "text": [
      "220.2603399982813\n",
      "0.0\n",
      "Reject H_0\n"
     ]
    }
   ],
   "source": [
    "# ANSWER\n",
    "from statsmodels.stats.weightstats import ztest\n",
    "\n",
    "z_stat, p_value = ztest(sample1, sample2, value = 200 , alternative='larger') \n",
    "\n",
    "print(z_stat)\n",
    "print(p_value)\n",
    "\n",
    "if p_value <= 0.05:\n",
    "    print(\"Reject H_0\")\n",
    "else:\n",
    "    print(\"Can't Reject H_0\")"
   ]
  },
  {
   "cell_type": "markdown",
   "id": "f79fc0e7",
   "metadata": {},
   "source": [
    "Conclusion\n",
    "\n",
    "- Here we reject H_0 \n",
    "- So accept H_a; i.e, difference in the mean values is greater than 200."
   ]
  },
  {
   "cell_type": "markdown",
   "id": "4e7e9b3a",
   "metadata": {},
   "source": [
    "-------------------\n",
    "------------"
   ]
  },
  {
   "cell_type": "markdown",
   "id": "5f1d58ed",
   "metadata": {},
   "source": [
    "## 2) TWO SMPLE T TEST"
   ]
  },
  {
   "cell_type": "markdown",
   "id": "f3a3bd7b",
   "metadata": {},
   "source": [
    "- ASSUME BOTH DISTRIBUTION FOLLOWS NORMAL DISTRIBUTION\n",
    "- Then even for the small samples we can make use of t test"
   ]
  },
  {
   "cell_type": "markdown",
   "id": "e2a0a381",
   "metadata": {},
   "source": [
    "TEST STATISTICS $T = \\frac{\\bar{x}-\\bar{y}-(\\mu_1-\\mu_2)}{\\sqrt{\\frac{(s_1)^2}{m}+\\frac{(s_2)^2}{n}}}$\n",
    "\n",
    "This follows t distribution"
   ]
  },
  {
   "cell_type": "markdown",
   "id": "50053a99",
   "metadata": {},
   "source": [
    "##### The inbuild two sample t test check with\n",
    "\n",
    "Null Hypothesis $H_0 : \\mu_1 -\\mu_2 = 0$ "
   ]
  },
  {
   "cell_type": "markdown",
   "id": "5642f183",
   "metadata": {},
   "source": [
    "#### scipy.stats.ttest_ind()\n",
    "\n",
    "Significance level used is 0.05"
   ]
  },
  {
   "cell_type": "markdown",
   "id": "0bb53d3f",
   "metadata": {},
   "source": [
    "https://docs.scipy.org/doc/scipy/reference/generated/scipy.stats.ttest_ind.html"
   ]
  },
  {
   "cell_type": "markdown",
   "id": "e269ba97",
   "metadata": {},
   "source": [
    "###### QUESTION :"
   ]
  },
  {
   "cell_type": "markdown",
   "id": "a7ba711d",
   "metadata": {},
   "source": [
    "The deterioration of many municipal pipeline networks across the country is a grow\u0002ing concern. One technology proposed for pipeline rehabilitation uses a flexible liner\n",
    "threaded through existing pipe. The article “Effect of Welding on a High-Density\n",
    "Polyethylene Liner” (J. of Materials in Civil Engr., 1996: 94–100) reported the fol\u0002lowing data on tensile strength (psi) of liner specimens both when a certain fusion\n",
    "process was used and when this process was not used.\n",
    "\n",
    "No fusion 2748 2700 2655 2822 2511 3149 3257 3213 3220 2753\n",
    "\n",
    "Fused 3027 3356 3359 3297 3125 2910 2889 2902\n",
    "\n",
    "The tensile strength distributions under the two conditions are both normal.\n",
    "\n",
    "The authors of the article stated that the fusion process increased the average\n",
    "tensile strength. Test this claim"
   ]
  },
  {
   "cell_type": "markdown",
   "id": "8aa3781c",
   "metadata": {},
   "source": [
    "###### ANSWER:"
   ]
  },
  {
   "cell_type": "markdown",
   "id": "d8826dd6",
   "metadata": {},
   "source": [
    "To check fusion process increased the average tensile strength\n",
    "So to check $\\mu_1<\\mu_2$\n",
    "\n",
    "Null Hypothesis $H_0 : \\mu_1 -\\mu_2 = 0$  VS $H_0 : \\mu_1 < \\mu_2$ So left tail test"
   ]
  },
  {
   "cell_type": "code",
   "execution_count": 21,
   "id": "756ae0f8",
   "metadata": {},
   "outputs": [],
   "source": [
    "# Creating the samples\n",
    "No_fusion = [2748 ,2700, 2655, 2822, 2511, 3149, 3257, 3213, 3220, 2753]\n",
    "fused = [3027 ,3356 ,3359 ,3297 ,3125 ,2910 ,2889 ,2902]"
   ]
  },
  {
   "cell_type": "code",
   "execution_count": 22,
   "id": "2d3779af",
   "metadata": {},
   "outputs": [
    {
     "name": "stdout",
     "output_type": "stream",
     "text": [
      "size of No_fusion is 10\n",
      "size of fused is 8\n"
     ]
    }
   ],
   "source": [
    "# Sample size\n",
    "print(\"size of No_fusion is\", len(No_fusion))\n",
    "print(\"size of fused is\", len(fused))"
   ]
  },
  {
   "cell_type": "markdown",
   "id": "6dcd09ba",
   "metadata": {},
   "source": [
    "Since sample size is small and populations follows normal distribution, we can make use of t test"
   ]
  },
  {
   "cell_type": "markdown",
   "id": "64e3de37",
   "metadata": {},
   "source": [
    "We do knowe nothing on the population variance, so we assume they are different so use Welch’s t-test."
   ]
  },
  {
   "cell_type": "code",
   "execution_count": 23,
   "id": "fbebc4f3",
   "metadata": {},
   "outputs": [],
   "source": [
    "# Import t test\n",
    "import scipy.stats as st"
   ]
  },
  {
   "cell_type": "code",
   "execution_count": 24,
   "id": "cb9ef1f0",
   "metadata": {},
   "outputs": [],
   "source": [
    "# Apply the test\n",
    "t,p = st.ttest_ind(No_fusion,fused,equal_var=False,alternative='less')\n",
    "\n",
    "# equal_var=False for Welch’s t-test for the assumption that Populations are having different variance\n",
    "# alternative='less' for left tail test"
   ]
  },
  {
   "cell_type": "code",
   "execution_count": 25,
   "id": "15a2e03a",
   "metadata": {},
   "outputs": [
    {
     "name": "stdout",
     "output_type": "stream",
     "text": [
      "Test statistic -1.8018316754827153\n",
      "P value 0.04525519932211329\n"
     ]
    }
   ],
   "source": [
    "print(\"Test statistic\",t)\n",
    "print(\"P value\",p)"
   ]
  },
  {
   "cell_type": "code",
   "execution_count": 26,
   "id": "1ba388dd",
   "metadata": {},
   "outputs": [
    {
     "name": "stdout",
     "output_type": "stream",
     "text": [
      "Reject H_0\n"
     ]
    }
   ],
   "source": [
    "if p < 0.05 :\n",
    "    print(\"Reject H_0\")\n",
    "else:\n",
    "    print(\"Can't reject H_0\")"
   ]
  },
  {
   "cell_type": "markdown",
   "id": "6b050386",
   "metadata": {},
   "source": [
    "Using a significance level of .05, we can barely reject the null hypothesis in\n",
    "favor of the alternative hypothesis. "
   ]
  },
  {
   "cell_type": "code",
   "execution_count": null,
   "id": "9a18e513",
   "metadata": {},
   "outputs": [],
   "source": []
  }
 ],
 "metadata": {
  "kernelspec": {
   "display_name": "Python 3 (ipykernel)",
   "language": "python",
   "name": "python3"
  },
  "language_info": {
   "codemirror_mode": {
    "name": "ipython",
    "version": 3
   },
   "file_extension": ".py",
   "mimetype": "text/x-python",
   "name": "python",
   "nbconvert_exporter": "python",
   "pygments_lexer": "ipython3",
   "version": "3.7.15"
  }
 },
 "nbformat": 4,
 "nbformat_minor": 5
}
